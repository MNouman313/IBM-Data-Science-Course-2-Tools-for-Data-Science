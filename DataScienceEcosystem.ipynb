{
 "cells": [
  {
   "cell_type": "markdown",
   "id": "f407a08e-5bb2-4ccc-a132-d5196bf8f951",
   "metadata": {},
   "source": [
    "# Data Science Tools and Ecosystem"
   ]
  },
  {
   "cell_type": "markdown",
   "id": "6890ecbe-20c8-4fdd-b273-72d65a573cda",
   "metadata": {},
   "source": [
    "This notebook has everything explained in the second course of IBM Data Science Professional Certificate, Tools for Data Science.\n",
    "We will summarize the python libraries for Data Science and other stuff required for data science."
   ]
  },
  {
   "cell_type": "markdown",
   "id": "b688f3aa-a23b-4c0f-9417-6cb6d637f5f1",
   "metadata": {},
   "source": [
    "Some of the popular **languages** that **Data Scientists** use are:\n",
    "1. Python\n",
    "2. R\n",
    "3. Julia\n",
    "4. Scala\n",
    "5. SQL\n",
    "6. MATLAB\n"
   ]
  },
  {
   "cell_type": "markdown",
   "id": "c19ec9dd-f918-4d40-a9d4-299c2d4db75d",
   "metadata": {},
   "source": [
    "Some of the commonly used **libraries** used by **Data Scientists** include:\n",
    "1. Numpy\n",
    "2. Pandas\n",
    "3. Matplotlib\n",
    "4. scikit-learn\n",
    "5. Tensorflow\n",
    "6. Keras\n",
    "7. Pytorch\n",
    "8. Seaborn"
   ]
  },
  {
   "cell_type": "markdown",
   "id": "90a61168-36dc-49a8-ae59-0be1d964449a",
   "metadata": {},
   "source": [
    "| Data Science Tools |\n",
    "|--------------|\n",
    "| Jupyter Notebook |\n",
    "| Rstudio |\n",
    "| Apache Zeppelin |\n",
    "| Spyder |\n",
    "| Visual Studio Code |\n"
   ]
  },
  {
   "cell_type": "markdown",
   "id": "3437efbe-f90d-41ab-9ff4-4020ac41726f",
   "metadata": {},
   "source": [
    "### Below are a few examples of evaluating arithmetic expressions in Python\n",
    "- Addition: 2 + 3 = 5\n",
    "- Subtraction: 10 - 4 = 6\n",
    "- Multiplication: 5 * 6 = 30\n",
    "- Division: 12 / 3 = 4\n",
    "- Exponentiation: 2 ** 4 = 16\n",
    "- Modulo: 15 % 4 = 3"
   ]
  },
  {
   "cell_type": "code",
   "execution_count": 1,
   "id": "c34f4476-3b36-40b2-b66e-2551f3641e95",
   "metadata": {
    "tags": []
   },
   "outputs": [
    {
     "data": {
      "text/plain": [
       "17"
      ]
     },
     "execution_count": 1,
     "metadata": {},
     "output_type": "execute_result"
    }
   ],
   "source": [
    "#This a simple arithmetic expression to mutiply then add integers\n",
    "(3*4)+5"
   ]
  },
  {
   "cell_type": "code",
   "execution_count": 3,
   "id": "3ce5e281-f08f-42fe-a7ba-5c322b03f6d0",
   "metadata": {
    "tags": []
   },
   "outputs": [
    {
     "data": {
      "text/plain": [
       "3.3333333333333335"
      ]
     },
     "execution_count": 3,
     "metadata": {},
     "output_type": "execute_result"
    }
   ],
   "source": [
    "#This will convert 200 minutes to hours by diving by 60\n",
    "hours = 200/60\n",
    "hours"
   ]
  },
  {
   "cell_type": "markdown",
   "id": "1942aa27-93fd-4473-ae74-74ab1af2c88f",
   "metadata": {},
   "source": [
    "**Objectives:**\n",
    "- List popular languages for Data Science\n",
    "- Introduce commonly used libraries in Data Science\n",
    "- Explain the use of version control systems like Git and GitHub\n",
    "- Understand the basics of data visualization with R and ggplot\n",
    "- Familiarize with the concepts of forking, cloning, and committing in Git\n",
    "- Explore the GitHub repository structure and features\n",
    "- Demonstrate how to add, upload, and save files in a repository\n",
    "- Highlight the importance of continuous integration and delivery in GitHub\n",
    "- Provide examples of evaluating arithmetic expressions in Python\n",
    "- Emphasize the significance of Jupyter Notebook as a development environment for Data Science"
   ]
  },
  {
   "cell_type": "markdown",
   "id": "146ef366-c828-4bca-877e-f8c0f1b23147",
   "metadata": {},
   "source": [
    "## Author\n",
    "Muhammad Nouman"
   ]
  },
  {
   "cell_type": "code",
   "execution_count": null,
   "id": "36e171a0-6bd7-423f-81f5-ccb5ddb2afaa",
   "metadata": {},
   "outputs": [],
   "source": []
  }
 ],
 "metadata": {
  "kernelspec": {
   "display_name": "Python",
   "language": "python",
   "name": "conda-env-python-py"
  },
  "language_info": {
   "codemirror_mode": {
    "name": "ipython",
    "version": 3
   },
   "file_extension": ".py",
   "mimetype": "text/x-python",
   "name": "python",
   "nbconvert_exporter": "python",
   "pygments_lexer": "ipython3",
   "version": "3.7.12"
  }
 },
 "nbformat": 4,
 "nbformat_minor": 5
}
